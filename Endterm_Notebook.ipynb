{
 "cells": [
  {
   "cell_type": "code",
   "execution_count": null,
   "id": "60fb8823",
   "metadata": {},
   "outputs": [],
   "source": [
    "# Load the dataset into Python environment\n",
    "import pandas as pd\n",
    "df = pd.read_csv(\"Crimes_-_2023.csv\")\n",
    "print(df.head(5))"
   ]
  },
  {
   "cell_type": "code",
   "execution_count": null,
   "id": "4a8f9c1d",
   "metadata": {},
   "outputs": [],
   "source": [
    "# Let's see some basic information about the dataset.\n",
    "print(df.info())"
   ]
  },
  {
   "cell_type": "code",
   "execution_count": null,
   "id": "a83c8a7c",
   "metadata": {},
   "outputs": [],
   "source": [
    "# This method shows the number of rows, columns in a dataset\n",
    "print(df.shape)"
   ]
  },
  {
   "cell_type": "code",
   "execution_count": null,
   "id": "8f6f9d61",
   "metadata": {},
   "outputs": [],
   "source": [
    "# This method generates descriptive statistics for numerical columns in the DataFrame, such as:\n",
    "# count, mean, standard deviation, minimum, maximum, and quartiles. \n",
    "# It's helpful for understanding the distribution of numerical data.\n",
    "print(df.describe())"
   ]
  },
  {
   "cell_type": "code",
   "execution_count": null,
   "id": "c658ccf0",
   "metadata": {},
   "outputs": [],
   "source": [
    "import sqlite3\n",
    "import pandas as pd\n",
    "import matplotlib.pyplot as plt\n",
    "\n",
    "# Connect to the SQLite database\n",
    "conn = sqlite3.connect('crime_data.db')\n",
    "\n",
    "# Crime Type Analysis\n",
    "crime_type_query = \"\"\"\n",
    "    SELECT \"Primary Type\", COUNT(*) AS \"Crime Count\"\n",
    "    FROM crimes\n",
    "    GROUP BY \"Primary Type\"\n",
    "    ORDER BY \"Crime Count\" DESC\n",
    "\"\"\"\n",
    "crime_type_analysis_df = pd.read_sql_query(crime_type_query, conn)\n",
    "\n",
    "# Calculate the distribution of crime types as a percentage of total crimes\n",
    "total_crimes = crime_type_analysis_df['Crime Count'].sum()\n",
    "crime_type_analysis_df['Crime Distribution (%)'] = (crime_type_analysis_df['Crime Count'] / total_crimes) * 100\n",
    "\n",
    "# Close the connection\n",
    "conn.close()\n",
    "\n",
    "# Plot the distribution of crime types\n",
    "plt.figure(figsize=(10, 6))\n",
    "plt.bar(crime_type_analysis_df['Primary Type'], crime_type_analysis_df['Crime Distribution (%)'])\n",
    "plt.xlabel('Crime Type')\n",
    "plt.ylabel('Distribution (%)')\n",
    "plt.title('Distribution of Crime Types')\n",
    "plt.xticks(rotation=90)\n",
    "plt.tight_layout()\n",
    "plt.show()"
   ]
  },
  {
   "cell_type": "code",
   "execution_count": null,
   "id": "327eca12",
   "metadata": {},
   "outputs": [],
   "source": [
    "import sqlite3\n",
    "import pandas as pd\n",
    "\n",
    "# Connect to the SQLite database\n",
    "conn = sqlite3.connect('crime_data.db')\n",
    "\n",
    "# Location-Based Analysis\n",
    "location_based_query = \"\"\"\n",
    "    SELECT \"Location Description\", COUNT(*) AS \"Crime Count\"\n",
    "    FROM crimes\n",
    "    GROUP BY \"Location Description\"\n",
    "    ORDER BY \"Crime Count\" DESC\n",
    "\"\"\"\n",
    "location_based_analysis_df = pd.read_sql_query(location_based_query, conn)\n",
    "\n",
    "# Close the connection\n",
    "conn.close()\n",
    "\n",
    "# Display the results\n",
    "print(\"\\nLocation-Based Analysis:\")\n",
    "print(location_based_analysis_df)"
   ]
  },
  {
   "cell_type": "code",
   "execution_count": null,
   "id": "85782ac0",
   "metadata": {},
   "outputs": [],
   "source": [
    "from pyspark.sql import SparkSession\n",
    "import folium\n",
    "\n",
    "# Initialize Spark session\n",
    "spark = SparkSession.builder \\\n",
    "    .appName(\"SpatialAnalysis\") \\\n",
    "    .getOrCreate()\n",
    "\n",
    "# Load the dataset into a Spark DataFrame\n",
    "df = spark.read.csv('Crimes_-_2023.csv', header=True, inferSchema=True)\n",
    "\n",
    "# Select relevant columns containing latitude and longitude coordinates\n",
    "location_df = df.select('Latitude', 'Longitude')\n",
    "\n",
    "# Filter out rows with missing latitude or longitude values\n",
    "location_df = location_df.filter(location_df['Latitude'].isNotNull() & location_df['Longitude'].isNotNull())\n",
    "\n",
    "# Convert Spark DataFrame to Pandas DataFrame for visualization\n",
    "location_pd_df = location_df.toPandas()\n",
    "\n",
    "# Close the Spark session\n",
    "spark.stop()\n",
    "\n",
    "# Create a Folium map centered on the mean of latitude and longitude\n",
    "crime_map = folium.Map(location=[location_pd_df['Latitude'].mean(), location_pd_df['Longitude'].mean()], zoom_start=10)\n",
    "\n",
    "# Add markers for each crime hotspot\n",
    "for index, row in location_pd_df.iterrows():\n",
    "    folium.CircleMarker(location=[row['Latitude'], row['Longitude']], radius=2, color='red', fill=True, fill_color='red').add_to(crime_map)\n",
    "\n",
    "# Display the map\n",
    "crime_map"
   ]
  },
  {
   "cell_type": "code",
   "execution_count": null,
   "id": "f5df218f",
   "metadata": {},
   "outputs": [],
   "source": []
  }
 ],
 "metadata": {
  "kernelspec": {
   "display_name": "Python 3 (ipykernel)",
   "language": "python",
   "name": "python3"
  },
  "language_info": {
   "codemirror_mode": {
    "name": "ipython",
    "version": 3
   },
   "file_extension": ".py",
   "mimetype": "text/x-python",
   "name": "python",
   "nbconvert_exporter": "python",
   "pygments_lexer": "ipython3",
   "version": "3.11.5"
  }
 },
 "nbformat": 4,
 "nbformat_minor": 5
}
